{
 "cells": [
  {
   "cell_type": "markdown",
   "id": "b577aa10",
   "metadata": {},
   "source": [
    "# A/B Test for MuscleHub"
   ]
  },
  {
   "cell_type": "markdown",
   "id": "794aa4dd",
   "metadata": {},
   "source": [
    "### Introduction"
   ]
  },
  {
   "cell_type": "markdown",
   "id": "6fe0e422",
   "metadata": {},
   "source": [
    "Janet, the manager of MuscleHub, thinks that the fitness test intimidates some prospective members, so she has set up an A/B test. We will help her analyze the data and create a presentation with our knowledge of conducting A/B testing with Python.\n",
    "\n",
    "Let's Started!"
   ]
  },
  {
   "cell_type": "markdown",
   "id": "fdde4ffb",
   "metadata": {},
   "source": [
    "### Importing Data"
   ]
  },
  {
   "cell_type": "markdown",
   "id": "8b19e116",
   "metadata": {},
   "source": [
    "Import the four csv files as pandas DataFrames and examine them. For this case, there is an assumption if all of the data have alredey been cleaned. So we don't need net to clean the data anymore."
   ]
  },
  {
   "cell_type": "code",
   "execution_count": 3,
   "id": "2ef5cf3b",
   "metadata": {},
   "outputs": [],
   "source": [
    "#Import libraries\n",
    "import pandas as pd\n",
    "import numpy as np\n",
    "from matplotlib import pyplot as plt\n",
    "import seaborn as sns"
   ]
  },
  {
   "cell_type": "code",
   "execution_count": 4,
   "id": "c59d0a39",
   "metadata": {},
   "outputs": [],
   "source": [
    "# Import the four csv files as pandas DataFrames\n",
    "# and examine them.\n",
    "visits = pd.read_csv('C:/Users/MOH.FARIZ/Documents/Project Code/AB Test for MuscleHub/visits.csv')\n",
    "fitness_tests = pd.read_csv('C:/Users/MOH.FARIZ/Documents/Project Code/AB Test for MuscleHub/fitness_tests.csv')\n",
    "applications = pd.read_csv('C:/Users/MOH.FARIZ/Documents/Project Code/AB Test for MuscleHub/applications.csv')\n",
    "purchases = pd.read_csv('C:/Users/MOH.FARIZ/Documents/Project Code/AB Test for MuscleHub/purchases.csv')"
   ]
  },
  {
   "cell_type": "code",
   "execution_count": 5,
   "id": "e5e06d10",
   "metadata": {},
   "outputs": [
    {
     "name": "stdout",
     "output_type": "stream",
     "text": [
      "  first_name last_name                          email  gender visit_date\n",
      "0      Karen   Manning        Karen.Manning@gmail.com  female     5-1-17\n",
      "1    Annette     Boone               AB9982@gmail.com  female     5-1-17\n",
      "2   Salvador   Merritt  SalvadorMerritt12@outlook.com    male     5-1-17\n",
      "3     Martha   Maxwell       Martha.Maxwell@gmail.com  female     5-1-17\n",
      "4      Andre     Mayer         AndreMayer90@gmail.com    male     5-1-17\n",
      "  first_name last_name                   email  gender fitness_test_date\n",
      "0        Kim    Walter   KimWalter58@gmail.com  female        2017-07-03\n",
      "1        Tom   Webster        TW3857@gmail.com    male        2017-07-02\n",
      "2     Marcus     Bauer  Marcus.Bauer@gmail.com    male        2017-07-01\n",
      "3    Roberta      Best      RB6305@hotmail.com  female        2017-07-02\n",
      "4     Carrie   Francis      CF1896@hotmail.com  female        2017-07-05\n",
      "  first_name last_name                    email  gender application_date\n",
      "0        Roy    Abbott    RoyAbbott32@gmail.com    male       2017-08-12\n",
      "1      Agnes   Acevedo  AgnesAcevedo1@gmail.com  female       2017-09-29\n",
      "2    Roberta   Acevedo         RA8063@gmail.com  female       2017-09-15\n",
      "3     Darren    Acosta  DAcosta1996@hotmail.com    male       2017-07-26\n",
      "4     Vernon    Acosta    VAcosta1975@gmail.com    male       2017-07-14\n",
      "  first_name last_name                    email  gender purchase_date\n",
      "0        Roy    Abbott    RoyAbbott32@gmail.com    male    2017-08-18\n",
      "1    Roberta   Acevedo         RA8063@gmail.com  female    2017-09-16\n",
      "2     Vernon    Acosta    VAcosta1975@gmail.com    male    2017-07-20\n",
      "3     Darren    Acosta  DAcosta1996@hotmail.com    male    2017-07-27\n",
      "4       Dawn    Adkins    Dawn.Adkins@gmail.com  female    2017-08-24\n"
     ]
    }
   ],
   "source": [
    "print(visits.head())\n",
    "print(fitness_tests.head())\n",
    "print(applications.head())\n",
    "print(purchases.head())"
   ]
  },
  {
   "cell_type": "markdown",
   "id": "645d1051",
   "metadata": {},
   "source": [
    "Next we have to join all data in one single DataFrame. From this case we need the following columns for analysis. \n",
    "* visits.first_name\n",
    "* visits.last_name\n",
    "* visits.gender\n",
    "* visits.email\n",
    "* visits.visit_date\n",
    "* fitness_tests.fitness_test_date\n",
    "* applications.application_date\n",
    "* purchases.purchase_date\n",
    "\n",
    "These columns are on or after 7-1-17.\n"
   ]
  },
  {
   "cell_type": "code",
   "execution_count": 6,
   "id": "3af80dac",
   "metadata": {
    "scrolled": true
   },
   "outputs": [
    {
     "data": {
      "text/html": [
       "<div>\n",
       "<style scoped>\n",
       "    .dataframe tbody tr th:only-of-type {\n",
       "        vertical-align: middle;\n",
       "    }\n",
       "\n",
       "    .dataframe tbody tr th {\n",
       "        vertical-align: top;\n",
       "    }\n",
       "\n",
       "    .dataframe thead th {\n",
       "        text-align: right;\n",
       "    }\n",
       "</style>\n",
       "<table border=\"1\" class=\"dataframe\">\n",
       "  <thead>\n",
       "    <tr style=\"text-align: right;\">\n",
       "      <th></th>\n",
       "      <th>first_name</th>\n",
       "      <th>last_name</th>\n",
       "      <th>email</th>\n",
       "      <th>gender</th>\n",
       "      <th>visit_date</th>\n",
       "      <th>fitness_test_date</th>\n",
       "      <th>application_date</th>\n",
       "      <th>purchase_date</th>\n",
       "    </tr>\n",
       "  </thead>\n",
       "  <tbody>\n",
       "    <tr>\n",
       "      <th>1000</th>\n",
       "      <td>Kim</td>\n",
       "      <td>Walter</td>\n",
       "      <td>KimWalter58@gmail.com</td>\n",
       "      <td>female</td>\n",
       "      <td>7-1-17</td>\n",
       "      <td>2017-07-03</td>\n",
       "      <td>NaN</td>\n",
       "      <td>NaN</td>\n",
       "    </tr>\n",
       "    <tr>\n",
       "      <th>1001</th>\n",
       "      <td>Tom</td>\n",
       "      <td>Webster</td>\n",
       "      <td>TW3857@gmail.com</td>\n",
       "      <td>male</td>\n",
       "      <td>7-1-17</td>\n",
       "      <td>2017-07-02</td>\n",
       "      <td>NaN</td>\n",
       "      <td>NaN</td>\n",
       "    </tr>\n",
       "    <tr>\n",
       "      <th>1002</th>\n",
       "      <td>Edward</td>\n",
       "      <td>Bowen</td>\n",
       "      <td>Edward.Bowen@gmail.com</td>\n",
       "      <td>male</td>\n",
       "      <td>7-1-17</td>\n",
       "      <td>NaN</td>\n",
       "      <td>2017-07-04</td>\n",
       "      <td>2017-07-04</td>\n",
       "    </tr>\n",
       "    <tr>\n",
       "      <th>1003</th>\n",
       "      <td>Marcus</td>\n",
       "      <td>Bauer</td>\n",
       "      <td>Marcus.Bauer@gmail.com</td>\n",
       "      <td>male</td>\n",
       "      <td>7-1-17</td>\n",
       "      <td>2017-07-01</td>\n",
       "      <td>2017-07-03</td>\n",
       "      <td>2017-07-05</td>\n",
       "    </tr>\n",
       "    <tr>\n",
       "      <th>1004</th>\n",
       "      <td>Roberta</td>\n",
       "      <td>Best</td>\n",
       "      <td>RB6305@hotmail.com</td>\n",
       "      <td>female</td>\n",
       "      <td>7-1-17</td>\n",
       "      <td>2017-07-02</td>\n",
       "      <td>NaN</td>\n",
       "      <td>NaN</td>\n",
       "    </tr>\n",
       "  </tbody>\n",
       "</table>\n",
       "</div>"
      ],
      "text/plain": [
       "     first_name last_name                   email  gender visit_date  \\\n",
       "1000        Kim    Walter   KimWalter58@gmail.com  female     7-1-17   \n",
       "1001        Tom   Webster        TW3857@gmail.com    male     7-1-17   \n",
       "1002     Edward     Bowen  Edward.Bowen@gmail.com    male     7-1-17   \n",
       "1003     Marcus     Bauer  Marcus.Bauer@gmail.com    male     7-1-17   \n",
       "1004    Roberta      Best      RB6305@hotmail.com  female     7-1-17   \n",
       "\n",
       "     fitness_test_date application_date purchase_date  \n",
       "1000        2017-07-03              NaN           NaN  \n",
       "1001        2017-07-02              NaN           NaN  \n",
       "1002               NaN       2017-07-04    2017-07-04  \n",
       "1003        2017-07-01       2017-07-03    2017-07-05  \n",
       "1004        2017-07-02              NaN           NaN  "
      ]
     },
     "execution_count": 6,
     "metadata": {},
     "output_type": "execute_result"
    }
   ],
   "source": [
    "#Create merging column based on date criteria\n",
    "visits_fitness_test = visits.merge(fitness_tests[['first_name', 'last_name', 'email', 'fitness_test_date']], on=['first_name', 'last_name', 'email'], how='left')\n",
    "visits_app = visits_fitness_test.merge(applications[['first_name', 'last_name', 'email','application_date']], on=['first_name', 'last_name', 'email'], how='left')\n",
    "df= visits_app.merge(purchases[['first_name', 'last_name', 'email', 'purchase_date']], on=['first_name', 'last_name', 'email'], how='left')\n",
    "\n",
    "#Final DataFrame\n",
    "df= df[df['visit_date'] >= '7-1-17']\n",
    "df.head()"
   ]
  },
  {
   "cell_type": "code",
   "execution_count": 7,
   "id": "f95375b2",
   "metadata": {},
   "outputs": [
    {
     "data": {
      "text/plain": [
       "5004"
      ]
     },
     "execution_count": 7,
     "metadata": {},
     "output_type": "execute_result"
    }
   ],
   "source": [
    "#Check the shape of DataFrame\n",
    "len(df)"
   ]
  },
  {
   "cell_type": "markdown",
   "id": "e9e655c9",
   "metadata": {},
   "source": [
    "Having compiled the DataFrame we can use to begin our project. \n",
    "To conduct the A/B test we need to determine which customers were given a fitness test. We'll use the variable using fitness_test_date column to create a new variable ('ab_users') with values of A (treatment group) if the fitness_test_date variable is not None, and B (control group) if the fitness_test_date variable is None."
   ]
  },
  {
   "cell_type": "code",
   "execution_count": 8,
   "id": "2d86c04b",
   "metadata": {},
   "outputs": [
    {
     "data": {
      "text/html": [
       "<div>\n",
       "<style scoped>\n",
       "    .dataframe tbody tr th:only-of-type {\n",
       "        vertical-align: middle;\n",
       "    }\n",
       "\n",
       "    .dataframe tbody tr th {\n",
       "        vertical-align: top;\n",
       "    }\n",
       "\n",
       "    .dataframe thead th {\n",
       "        text-align: right;\n",
       "    }\n",
       "</style>\n",
       "<table border=\"1\" class=\"dataframe\">\n",
       "  <thead>\n",
       "    <tr style=\"text-align: right;\">\n",
       "      <th></th>\n",
       "      <th>first_name</th>\n",
       "      <th>last_name</th>\n",
       "      <th>email</th>\n",
       "      <th>gender</th>\n",
       "      <th>visit_date</th>\n",
       "      <th>fitness_test_date</th>\n",
       "      <th>application_date</th>\n",
       "      <th>purchase_date</th>\n",
       "      <th>ab_users</th>\n",
       "    </tr>\n",
       "  </thead>\n",
       "  <tbody>\n",
       "    <tr>\n",
       "      <th>1000</th>\n",
       "      <td>Kim</td>\n",
       "      <td>Walter</td>\n",
       "      <td>KimWalter58@gmail.com</td>\n",
       "      <td>female</td>\n",
       "      <td>7-1-17</td>\n",
       "      <td>2017-07-03</td>\n",
       "      <td>NaN</td>\n",
       "      <td>NaN</td>\n",
       "      <td>A</td>\n",
       "    </tr>\n",
       "    <tr>\n",
       "      <th>1001</th>\n",
       "      <td>Tom</td>\n",
       "      <td>Webster</td>\n",
       "      <td>TW3857@gmail.com</td>\n",
       "      <td>male</td>\n",
       "      <td>7-1-17</td>\n",
       "      <td>2017-07-02</td>\n",
       "      <td>NaN</td>\n",
       "      <td>NaN</td>\n",
       "      <td>A</td>\n",
       "    </tr>\n",
       "    <tr>\n",
       "      <th>1002</th>\n",
       "      <td>Edward</td>\n",
       "      <td>Bowen</td>\n",
       "      <td>Edward.Bowen@gmail.com</td>\n",
       "      <td>male</td>\n",
       "      <td>7-1-17</td>\n",
       "      <td>NaN</td>\n",
       "      <td>2017-07-04</td>\n",
       "      <td>2017-07-04</td>\n",
       "      <td>B</td>\n",
       "    </tr>\n",
       "    <tr>\n",
       "      <th>1003</th>\n",
       "      <td>Marcus</td>\n",
       "      <td>Bauer</td>\n",
       "      <td>Marcus.Bauer@gmail.com</td>\n",
       "      <td>male</td>\n",
       "      <td>7-1-17</td>\n",
       "      <td>2017-07-01</td>\n",
       "      <td>2017-07-03</td>\n",
       "      <td>2017-07-05</td>\n",
       "      <td>A</td>\n",
       "    </tr>\n",
       "    <tr>\n",
       "      <th>1004</th>\n",
       "      <td>Roberta</td>\n",
       "      <td>Best</td>\n",
       "      <td>RB6305@hotmail.com</td>\n",
       "      <td>female</td>\n",
       "      <td>7-1-17</td>\n",
       "      <td>2017-07-02</td>\n",
       "      <td>NaN</td>\n",
       "      <td>NaN</td>\n",
       "      <td>A</td>\n",
       "    </tr>\n",
       "  </tbody>\n",
       "</table>\n",
       "</div>"
      ],
      "text/plain": [
       "     first_name last_name                   email  gender visit_date  \\\n",
       "1000        Kim    Walter   KimWalter58@gmail.com  female     7-1-17   \n",
       "1001        Tom   Webster        TW3857@gmail.com    male     7-1-17   \n",
       "1002     Edward     Bowen  Edward.Bowen@gmail.com    male     7-1-17   \n",
       "1003     Marcus     Bauer  Marcus.Bauer@gmail.com    male     7-1-17   \n",
       "1004    Roberta      Best      RB6305@hotmail.com  female     7-1-17   \n",
       "\n",
       "     fitness_test_date application_date purchase_date ab_users  \n",
       "1000        2017-07-03              NaN           NaN        A  \n",
       "1001        2017-07-02              NaN           NaN        A  \n",
       "1002               NaN       2017-07-04    2017-07-04        B  \n",
       "1003        2017-07-01       2017-07-03    2017-07-05        A  \n",
       "1004        2017-07-02              NaN           NaN        A  "
      ]
     },
     "execution_count": 8,
     "metadata": {},
     "output_type": "execute_result"
    }
   ],
   "source": [
    "# Create new ab_users variable\n",
    "df['ab_users'] = np.where(df['fitness_test_date'].isna(), 'B', 'A')\n",
    "df.head()"
   ]
  },
  {
   "cell_type": "code",
   "execution_count": 9,
   "id": "6c6cd95b",
   "metadata": {},
   "outputs": [
    {
     "data": {
      "text/plain": [
       "A    2504\n",
       "B    2500\n",
       "Name: ab_users, dtype: int64"
      ]
     },
     "execution_count": 9,
     "metadata": {},
     "output_type": "execute_result"
    }
   ],
   "source": [
    "#Check the count of ab_users\n",
    "df['ab_users'].value_counts()"
   ]
  },
  {
   "cell_type": "code",
   "execution_count": 10,
   "id": "21510ae4",
   "metadata": {},
   "outputs": [
    {
     "data": {
      "image/png": "[encoded data removed]",
      "text/plain": [
       "<Figure size 432x288 with 1 Axes>"
      ]
     },
     "metadata": {},
     "output_type": "display_data"
    }
   ],
   "source": [
    "#Plot the variable ab_users to understanding easily the distribution of test groups\n",
    "df['ab_users'].value_counts().plot(kind='pie', autopct='%0.2f%%')\n",
    "plt.show()"
   ]
  },
  {
   "cell_type": "markdown",
   "id": "6e21e137",
   "metadata": {},
   "source": [
    "### Analyzing Data"
   ]
  },
  {
   "cell_type": "markdown",
   "id": "f4fa6b30",
   "metadata": {},
   "source": [
    "It’s time to analyze our data. \n",
    "For reminder, we need to recall that the sign-up process for MuscleHub has several steps:\n",
    "\n",
    "* Take a fitness test with a personal trainer (only Group A).\n",
    "* Fill out an application for the gym.\n",
    "* Send in their payment for their first month's membership\n",
    "\n",
    "Next we need to determine the distribution of people in each group who complete step 2 (application) in variable 'ab_apply' and final step (purchasing) in variable 'ab_purchase'."
   ]
  },
  {
   "cell_type": "code",
   "execution_count": 11,
   "id": "a76e65fe",
   "metadata": {},
   "outputs": [
    {
     "data": {
      "text/html": [
       "<div>\n",
       "<style scoped>\n",
       "    .dataframe tbody tr th:only-of-type {\n",
       "        vertical-align: middle;\n",
       "    }\n",
       "\n",
       "    .dataframe tbody tr th {\n",
       "        vertical-align: top;\n",
       "    }\n",
       "\n",
       "    .dataframe thead th {\n",
       "        text-align: right;\n",
       "    }\n",
       "</style>\n",
       "<table border=\"1\" class=\"dataframe\">\n",
       "  <thead>\n",
       "    <tr style=\"text-align: right;\">\n",
       "      <th></th>\n",
       "      <th>first_name</th>\n",
       "      <th>last_name</th>\n",
       "      <th>email</th>\n",
       "      <th>gender</th>\n",
       "      <th>visit_date</th>\n",
       "      <th>fitness_test_date</th>\n",
       "      <th>application_date</th>\n",
       "      <th>purchase_date</th>\n",
       "      <th>ab_users</th>\n",
       "      <th>ab_apply</th>\n",
       "      <th>ab_purchase</th>\n",
       "    </tr>\n",
       "  </thead>\n",
       "  <tbody>\n",
       "    <tr>\n",
       "      <th>1000</th>\n",
       "      <td>Kim</td>\n",
       "      <td>Walter</td>\n",
       "      <td>KimWalter58@gmail.com</td>\n",
       "      <td>female</td>\n",
       "      <td>7-1-17</td>\n",
       "      <td>2017-07-03</td>\n",
       "      <td>NaN</td>\n",
       "      <td>NaN</td>\n",
       "      <td>A</td>\n",
       "      <td>False</td>\n",
       "      <td>False</td>\n",
       "    </tr>\n",
       "    <tr>\n",
       "      <th>1001</th>\n",
       "      <td>Tom</td>\n",
       "      <td>Webster</td>\n",
       "      <td>TW3857@gmail.com</td>\n",
       "      <td>male</td>\n",
       "      <td>7-1-17</td>\n",
       "      <td>2017-07-02</td>\n",
       "      <td>NaN</td>\n",
       "      <td>NaN</td>\n",
       "      <td>A</td>\n",
       "      <td>False</td>\n",
       "      <td>False</td>\n",
       "    </tr>\n",
       "    <tr>\n",
       "      <th>1002</th>\n",
       "      <td>Edward</td>\n",
       "      <td>Bowen</td>\n",
       "      <td>Edward.Bowen@gmail.com</td>\n",
       "      <td>male</td>\n",
       "      <td>7-1-17</td>\n",
       "      <td>NaN</td>\n",
       "      <td>2017-07-04</td>\n",
       "      <td>2017-07-04</td>\n",
       "      <td>B</td>\n",
       "      <td>True</td>\n",
       "      <td>True</td>\n",
       "    </tr>\n",
       "    <tr>\n",
       "      <th>1003</th>\n",
       "      <td>Marcus</td>\n",
       "      <td>Bauer</td>\n",
       "      <td>Marcus.Bauer@gmail.com</td>\n",
       "      <td>male</td>\n",
       "      <td>7-1-17</td>\n",
       "      <td>2017-07-01</td>\n",
       "      <td>2017-07-03</td>\n",
       "      <td>2017-07-05</td>\n",
       "      <td>A</td>\n",
       "      <td>True</td>\n",
       "      <td>True</td>\n",
       "    </tr>\n",
       "    <tr>\n",
       "      <th>1004</th>\n",
       "      <td>Roberta</td>\n",
       "      <td>Best</td>\n",
       "      <td>RB6305@hotmail.com</td>\n",
       "      <td>female</td>\n",
       "      <td>7-1-17</td>\n",
       "      <td>2017-07-02</td>\n",
       "      <td>NaN</td>\n",
       "      <td>NaN</td>\n",
       "      <td>A</td>\n",
       "      <td>False</td>\n",
       "      <td>False</td>\n",
       "    </tr>\n",
       "  </tbody>\n",
       "</table>\n",
       "</div>"
      ],
      "text/plain": [
       "     first_name last_name                   email  gender visit_date  \\\n",
       "1000        Kim    Walter   KimWalter58@gmail.com  female     7-1-17   \n",
       "1001        Tom   Webster        TW3857@gmail.com    male     7-1-17   \n",
       "1002     Edward     Bowen  Edward.Bowen@gmail.com    male     7-1-17   \n",
       "1003     Marcus     Bauer  Marcus.Bauer@gmail.com    male     7-1-17   \n",
       "1004    Roberta      Best      RB6305@hotmail.com  female     7-1-17   \n",
       "\n",
       "     fitness_test_date application_date purchase_date ab_users  ab_apply  \\\n",
       "1000        2017-07-03              NaN           NaN        A     False   \n",
       "1001        2017-07-02              NaN           NaN        A     False   \n",
       "1002               NaN       2017-07-04    2017-07-04        B      True   \n",
       "1003        2017-07-01       2017-07-03    2017-07-05        A      True   \n",
       "1004        2017-07-02              NaN           NaN        A     False   \n",
       "\n",
       "      ab_purchase  \n",
       "1000        False  \n",
       "1001        False  \n",
       "1002         True  \n",
       "1003         True  \n",
       "1004        False  "
      ]
     },
     "execution_count": 11,
     "metadata": {},
     "output_type": "execute_result"
    }
   ],
   "source": [
    "#Determine the variable of completion ('ab_apply') and payment ('ab_purchase') for each group.\n",
    "df['ab_apply'] = np.where(df['application_date'].isna(), 0, 1).astype('bool')\n",
    "df['ab_purchase'] = np.where(df['purchase_date'].isna(), 0, 1).astype('bool')\n",
    "\n",
    "df.head()"
   ]
  },
  {
   "cell_type": "code",
   "execution_count": 12,
   "id": "df30b79c",
   "metadata": {},
   "outputs": [
    {
     "data": {
      "text/html": [
       "<div>\n",
       "<style scoped>\n",
       "    .dataframe tbody tr th:only-of-type {\n",
       "        vertical-align: middle;\n",
       "    }\n",
       "\n",
       "    .dataframe tbody tr th {\n",
       "        vertical-align: top;\n",
       "    }\n",
       "\n",
       "    .dataframe thead th {\n",
       "        text-align: right;\n",
       "    }\n",
       "</style>\n",
       "<table border=\"1\" class=\"dataframe\">\n",
       "  <thead>\n",
       "    <tr style=\"text-align: right;\">\n",
       "      <th></th>\n",
       "      <th>ab_users</th>\n",
       "      <th>ab_total</th>\n",
       "      <th>applying</th>\n",
       "      <th>not_applying</th>\n",
       "      <th>purchasing</th>\n",
       "      <th>not_purchasing</th>\n",
       "      <th>not_app_purchasing</th>\n",
       "    </tr>\n",
       "  </thead>\n",
       "  <tbody>\n",
       "    <tr>\n",
       "      <th>0</th>\n",
       "      <td>A</td>\n",
       "      <td>2504</td>\n",
       "      <td>250</td>\n",
       "      <td>2254</td>\n",
       "      <td>200</td>\n",
       "      <td>50</td>\n",
       "      <td>2304</td>\n",
       "    </tr>\n",
       "    <tr>\n",
       "      <th>1</th>\n",
       "      <td>B</td>\n",
       "      <td>2500</td>\n",
       "      <td>325</td>\n",
       "      <td>2175</td>\n",
       "      <td>250</td>\n",
       "      <td>75</td>\n",
       "      <td>2250</td>\n",
       "    </tr>\n",
       "  </tbody>\n",
       "</table>\n",
       "</div>"
      ],
      "text/plain": [
       "  ab_users  ab_total  applying  not_applying  purchasing  not_purchasing  \\\n",
       "0        A      2504       250          2254         200              50   \n",
       "1        B      2500       325          2175         250              75   \n",
       "\n",
       "   not_app_purchasing  \n",
       "0                2304  \n",
       "1                2250  "
      ]
     },
     "execution_count": 12,
     "metadata": {},
     "output_type": "execute_result"
    }
   ],
   "source": [
    "#Calculate the number of completion ('ab_apply') and payment ('ab_purchase') for each group.\n",
    "df_user = df.assign(applying= np.where(df['ab_apply']==True,1,0), not_applying=np.where(df['ab_apply']==False,1,0), purchasing=np.where(df['ab_purchase']==True,1,0), not_app_purchasing=np.where(df['ab_purchase']==False,1,0)).groupby('ab_users').agg({'ab_users':'count','applying':'sum','not_applying':'sum','purchasing':'sum','not_app_purchasing':'sum'}).rename(columns={\n",
    "    'ab_users':'ab_total'}).reset_index()\n",
    "df_user['not_purchasing'] = df_user.applying - df_user.purchasing\n",
    "df_user = df_user[['ab_users', 'ab_total', 'applying', 'not_applying', 'purchasing', 'not_purchasing', 'not_app_purchasing']]\n",
    "df_user"
   ]
  },
  {
   "cell_type": "markdown",
   "id": "2b51e723",
   "metadata": {},
   "source": [
    "#### The Difference Between Group"
   ]
  },
  {
   "cell_type": "markdown",
   "id": "90fc0390",
   "metadata": {},
   "source": [
    "Next we want to to know the difference between two group in percentage for two actions. In other words we will try to find the exact number of conversion rate for each step (applying and purchasing)."
   ]
  },
  {
   "cell_type": "code",
   "execution_count": 13,
   "id": "1e83058b",
   "metadata": {},
   "outputs": [
    {
     "data": {
      "text/html": [
       "<div>\n",
       "<style scoped>\n",
       "    .dataframe tbody tr th:only-of-type {\n",
       "        vertical-align: middle;\n",
       "    }\n",
       "\n",
       "    .dataframe tbody tr th {\n",
       "        vertical-align: top;\n",
       "    }\n",
       "\n",
       "    .dataframe thead th {\n",
       "        text-align: right;\n",
       "    }\n",
       "</style>\n",
       "<table border=\"1\" class=\"dataframe\">\n",
       "  <thead>\n",
       "    <tr style=\"text-align: right;\">\n",
       "      <th></th>\n",
       "      <th>ab_users</th>\n",
       "      <th>conversion_app</th>\n",
       "      <th>conversion_pur</th>\n",
       "    </tr>\n",
       "  </thead>\n",
       "  <tbody>\n",
       "    <tr>\n",
       "      <th>0</th>\n",
       "      <td>A</td>\n",
       "      <td>0.09984</td>\n",
       "      <td>0.079872</td>\n",
       "    </tr>\n",
       "    <tr>\n",
       "      <th>1</th>\n",
       "      <td>B</td>\n",
       "      <td>0.13000</td>\n",
       "      <td>0.100000</td>\n",
       "    </tr>\n",
       "  </tbody>\n",
       "</table>\n",
       "</div>"
      ],
      "text/plain": [
       "  ab_users  conversion_app  conversion_pur\n",
       "0        A         0.09984        0.079872\n",
       "1        B         0.13000        0.100000"
      ]
     },
     "execution_count": 13,
     "metadata": {},
     "output_type": "execute_result"
    }
   ],
   "source": [
    "#Calculate the percentage\n",
    "df_user['conversion_app']= df_user['applying'] / df_user['ab_total']\n",
    "df_user['conversion_pur']= df_user['purchasing'] / df_user['ab_total']\n",
    "df_user[['ab_users', 'conversion_app', 'conversion_pur']]"
   ]
  },
  {
   "cell_type": "markdown",
   "id": "092ae1f6",
   "metadata": {},
   "source": [
    "The aggregate results showed a very small difference between group A and group B. For application conversion rate, group A only showed 9.9% compared to group B (13%). Meanwhile for groups that ended up for buying membership also showed the same results, 7.9% for group A and 10% for group B. \n",
    "\n",
    "The graph below also confirms the small difference between two groups, even the group B has a higher conversion rate than group A."
   ]
  },
  {
   "cell_type": "code",
   "execution_count": 14,
   "id": "f68fc93c",
   "metadata": {
    "scrolled": true
   },
   "outputs": [
    {
     "data": {
      "image/png": "[encoded data removed]",
      "text/plain": [
       "<Figure size 412.5x360 with 1 Axes>"
      ]
     },
     "metadata": {
      "needs_background": "light"
     },
     "output_type": "display_data"
    }
   ],
   "source": [
    "df_melted = pd.melt(df_user, id_vars=['ab_users'], value_vars=['ab_total', 'applying', 'purchasing'])\n",
    "sns.catplot(x= 'variable', y='value', data=df_melted, hue='ab_users', kind='bar')\n",
    "plt.show()"
   ]
  },
  {
   "cell_type": "markdown",
   "id": "6717b327",
   "metadata": {},
   "source": [
    "#### Significancy"
   ]
  },
  {
   "cell_type": "markdown",
   "id": "e14bf155",
   "metadata": {},
   "source": [
    "We already know that the aggregate difference between the two groups is a very small, even the treatment group (A) seems to have a lower conversion rate than a control group (B). But before decide the actions based on previous results, we need to confirm further based on statistical tests. Statistical tests are crucial when we want to use sample data to make conclusions about a population because these tests account for sample error. Using significance levels and p-values to determine when to reject the null hypothesis improves the probability that we will draw on the correct conclusion.\n",
    "\n",
    "For this case, Janet’s hypothesis is that visitors assigned to Group B will be more likely to eventually purchase a membership to MuscleHub than visitors assigned to Group A. So that the null and alternate hypotheses are as follows:\n",
    "\n",
    "* Null Hypothesis = There will no difference between the visitors in Group A that purchase membership and the visitors in Group B that purchase membership.\n",
    "* Alternate Hypothesis = There will be more visitors in Group B that will purchase membership than visitors in Group A that will purchase membership.\n",
    "\n",
    "\n",
    "The significance threshold we will set as the benchmark to either accept or fail to reject the null hypothesis will be:\n",
    "\n",
    "𝛼 = 0.05"
   ]
  },
  {
   "cell_type": "code",
   "execution_count": 19,
   "id": "036654c6",
   "metadata": {},
   "outputs": [],
   "source": [
    "#Determine the paramater of each group\n",
    "num_a, num_b = 2504, 2500\n",
    "app_a, app_b = 250, 325\n",
    "pur_a, pur_b = 200, 250\n",
    "no_app_a, no_app_b = 2254, 2175\n",
    "no_pur_a, no_pur_b = 2304, 2250"
   ]
  },
  {
   "cell_type": "code",
   "execution_count": 36,
   "id": "33644f6e",
   "metadata": {},
   "outputs": [
    {
     "name": "stdout",
     "output_type": "stream",
     "text": [
      "Zscore is -3.35, p-value is 0.00082 (two tailed), 0.00041 (one tailed)\n",
      "p_value =  0.0004120428915277876\n",
      "Significant Result\n"
     ]
    }
   ],
   "source": [
    "#Calaculate the significance of applicance for each group using Welsch’s t-test\n",
    "from scipy.stats import ttest_ind\n",
    "a_dist = np.zeros(num_a)\n",
    "a_dist[:app_a] = 1\n",
    "b_dist = np.zeros(num_b)\n",
    "b_dist[:app_b] = 1\n",
    "zscore, prob = ttest_ind(a_dist, b_dist, equal_var=False)\n",
    "print(f\"Zscore is {zscore:0.2f}, p-value is {prob:0.05f} (two tailed), {prob/2:0.05f} (one tailed)\")\n",
    "\n",
    "#or \n",
    "\n",
    "a_results = df_user[df_user.ab_users == 'A']['applying']\n",
    "b_results = df_user[df_user.ab_users == 'B']['applying']\n",
    "\n",
    "test_result = stats.ttest_ind(a_results, b_results)\n",
    "\n",
    "print('p_value = ', p_value)\n",
    "\n",
    "# Check for statistical significance\n",
    "if p_value >= 0.05:\n",
    "    print(\"Not Significant\")\n",
    "else:\n",
    "    print(\"Significant Result\")"
   ]
  },
  {
   "cell_type": "code",
   "execution_count": 33,
   "id": "34995dd0",
   "metadata": {},
   "outputs": [
    {
     "name": "stdout",
     "output_type": "stream",
     "text": [
      "Mann-Whitney U test for null hypothesis B <= A is 0.00041\n"
     ]
    }
   ],
   "source": [
    "#Calculate the significance of applicance for each group using Mann-Whitney U test\n",
    "from scipy.stats import mannwhitneyu\n",
    "stat, p_value = mannwhitneyu(a_dist, b_dist, alternative=\"less\")\n",
    "print(f\"Mann-Whitney U test for null hypothesis B <= A is {p_value:0.05f}\")"
   ]
  },
  {
   "cell_type": "code",
   "execution_count": 24,
   "id": "b70cc59f",
   "metadata": {},
   "outputs": [
    {
     "data": {
      "text/plain": [
       "(10.893961295282612,\n",
       " 0.0009647827600722304,\n",
       " 1,\n",
       " array([[ 287.72981615, 2216.27018385],\n",
       "        [ 287.27018385, 2212.72981615]]))"
      ]
     },
     "execution_count": 24,
     "metadata": {},
     "output_type": "execute_result"
    }
   ],
   "source": [
    "#Calculate the significance of applicance for each group using Chi-squared test\n",
    "from scipy.stats import chi2_contingency\n",
    "contingency = [[app_a, no_app_a], [app_b, no_app_b]]\n",
    "chi2_contingency(contingency)"
   ]
  },
  {
   "cell_type": "code",
   "execution_count": 25,
   "id": "06f05d94",
   "metadata": {},
   "outputs": [
    {
     "name": "stdout",
     "output_type": "stream",
     "text": [
      "Zscore is -2.49, p-value is 0.01283 (two tailed), 0.00642 (one tailed)\n"
     ]
    }
   ],
   "source": [
    "#Calaculate the significance of purchasing of membership for each group using Welsch’s t-test\n",
    "a_dist1 = np.zeros(num_a)\n",
    "a_dist1[:pur_a] = 1\n",
    "b_dist1 = np.zeros(num_b)\n",
    "b_dist1[:pur_b] = 1\n",
    "zscore, prob = ttest_ind(a_dist1, b_dist1, equal_var=False)\n",
    "print(f\"Zscore is {zscore:0.2f}, p-value is {prob:0.05f} (two tailed), {prob/2:0.05f} (one tailed)\")"
   ]
  },
  {
   "cell_type": "code",
   "execution_count": 26,
   "id": "e5a07f21",
   "metadata": {},
   "outputs": [
    {
     "name": "stdout",
     "output_type": "stream",
     "text": [
      "Mann-Whitney U test for null hypothesis B <= A is 0.00642\n"
     ]
    }
   ],
   "source": [
    "#Calaculate the significance of purchasing of membership for each group using Mann-Whitney U test\n",
    "stat, p_value = mannwhitneyu(a_dist1, b_dist1, alternative=\"less\")\n",
    "print(f\"Mann-Whitney U test for null hypothesis B <= A is {p_value:0.05f}\")"
   ]
  },
  {
   "cell_type": "code",
   "execution_count": 27,
   "id": "6c6219c1",
   "metadata": {},
   "outputs": [
    {
     "data": {
      "text/plain": [
       "(5.949182292591156,\n",
       " 0.014724114645783203,\n",
       " 1,\n",
       " array([[ 225.17985612, 2278.82014388],\n",
       "        [ 224.82014388, 2275.17985612]]))"
      ]
     },
     "execution_count": 27,
     "metadata": {},
     "output_type": "execute_result"
    }
   ],
   "source": [
    "#Calculate the significance of purchasing of membership for each group using Chi-squared test\n",
    "contingency = [[pur_a, no_pur_a], [pur_b, no_pur_b]]\n",
    "chi2_contingency(contingency)"
   ]
  },
  {
   "cell_type": "code",
   "execution_count": 29,
   "id": "8b3236c4",
   "metadata": {},
   "outputs": [
    {
     "name": "stdout",
     "output_type": "stream",
     "text": [
      "           test   p_value  signif\n",
      "0        ttest2  0.000820    True\n",
      "1        ttest1  0.000410    True\n",
      "2  mannwhitneyu  0.000410    True\n",
      "3          chi2  0.000964    True\n"
     ]
    }
   ],
   "source": [
    "#summarize p-value for each test method\n",
    "data = {'test':['ttest2', 'ttest1', 'mannwhitneyu', 'chi2'],\n",
    "        'p_value':[0.00082, 0.00041, 0.00041, 0.000964]}\n",
    "data2 = {'test':['ttest2', 'ttest1', 'mannwhitneyu', 'chi2'],\n",
    "        'p_value':[0.01283, 0.00642, 0.00642, 0.01472]}\n",
    "p_value_app = pd.DataFrame(data)\n",
    "p_value_purr = pd.DataFrame(data2)\n",
    "p_value_app['signif'] = np.where(p_value_app['p_value'] < 0.05, True, False)\n",
    "p_value_purr['signif'] = np.where(p_value_purr['p_value'] < 0.05, True, False)\n",
    "print(p_value_app)"
   ]
  },
  {
   "cell_type": "code",
   "execution_count": 30,
   "id": "06fa4b30",
   "metadata": {},
   "outputs": [
    {
     "name": "stdout",
     "output_type": "stream",
     "text": [
      "           test  p_value  signif\n",
      "0        ttest2  0.01283    True\n",
      "1        ttest1  0.00642    True\n",
      "2  mannwhitneyu  0.00642    True\n",
      "3          chi2  0.01472    True\n"
     ]
    }
   ],
   "source": [
    "print(p_value_purr)"
   ]
  },
  {
   "cell_type": "markdown",
   "id": "c4fca8df",
   "metadata": {},
   "source": [
    "From various tests, we know that p-values for two actions (appliying and purchasing membership) using different tests compared to a significance threshold of 𝛼 = 0.05 indicates that there is a statistically signifant difference between the two groups (A and B). So the action should be continued or perform under right expectation."
   ]
  }
 ],
 "metadata": {
  "kernelspec": {
   "display_name": "Python 3 (ipykernel)",
   "language": "python",
   "name": "python3"
  },
  "language_info": {
   "codemirror_mode": {
    "name": "ipython",
    "version": 3
   },
   "file_extension": ".py",
   "mimetype": "text/x-python",
   "name": "python",
   "nbconvert_exporter": "python",
   "pygments_lexer": "ipython3",
   "version": "3.9.7"
  }
 },
 "nbformat": 4,
 "nbformat_minor": 5
}
